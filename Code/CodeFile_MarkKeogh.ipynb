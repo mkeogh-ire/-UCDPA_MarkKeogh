{
 "cells": [
  {
   "cell_type": "code",
   "execution_count": 2,
   "id": "092a8e63",
   "metadata": {},
   "outputs": [],
   "source": [
    "#Using Python 3 in Jupyter to run analysis on a predetermined dataset.\n",
    "#In this on Premier League Fanatasy Football Statistics.\n",
    "#first point is to import packages to benefit this analysis\n",
    "\n",
    "import pandas as pd\n",
    "import numpy as np\n",
    "import seaborn as sns\n",
    "import matplotlib.pyplot as plt\n"
   ]
  },
  {
   "cell_type": "code",
   "execution_count": null,
   "id": "cb2b9daa",
   "metadata": {},
   "outputs": [],
   "source": []
  },
  {
   "cell_type": "code",
   "execution_count": null,
   "id": "b1812981",
   "metadata": {},
   "outputs": [],
   "source": []
  }
 ],
 "metadata": {
  "kernelspec": {
   "display_name": "Python 3 (ipykernel)",
   "language": "python",
   "name": "python3"
  },
  "language_info": {
   "codemirror_mode": {
    "name": "ipython",
    "version": 3
   },
   "file_extension": ".py",
   "mimetype": "text/x-python",
   "name": "python",
   "nbconvert_exporter": "python",
   "pygments_lexer": "ipython3",
   "version": "3.9.7"
  }
 },
 "nbformat": 4,
 "nbformat_minor": 5
}
