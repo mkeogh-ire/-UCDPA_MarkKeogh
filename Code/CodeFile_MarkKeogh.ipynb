{
 "cells": [
  {
   "cell_type": "code",
   "execution_count": 2,
   "id": "b9eb68aa",
   "metadata": {},
   "outputs": [],
   "source": [
    "#Using Python 3 in Jupyter to run analysis on a predetermined dataset.\n",
    "#In this on Premier League Fanatasy Football Statistics.\n",
    "#first point is to import packages to benefit this analysis\n",
    "\n",
    "import pandas as pd\n",
    "import numpy as np\n",
    "import seaborn as sns\n",
    "import matplotlib.pyplot as plt\n"
   ]
  },
  {
   "cell_type": "markdown",
   "id": "20ffc57f",
   "metadata": {},
   "source": [
    "Importing the datasets "
   ]
  },
  {
   "cell_type": "code",
   "execution_count": 14,
   "id": "a90c0d11",
   "metadata": {},
   "outputs": [],
   "source": [
    "df = pd.read_csv(r'C:\\Users\\mark.keogh\\Documents\\GitHub\\-UCDPA_MarkKeogh\\Datasets\\cleaned_players_21_22.csv')"
   ]
  },
  {
   "cell_type": "code",
   "execution_count": 15,
   "id": "cecef991",
   "metadata": {},
   "outputs": [
    {
     "name": "stdout",
     "output_type": "stream",
     "text": [
      "       first_name      second_name  goals_scored  assists  total_points  \\\n",
      "0           Bernd             Leno             0        0            10   \n",
      "1      Rúnar Alex        Rúnarsson             0        0             0   \n",
      "2         Willian  Borges Da Silva             0        0             0   \n",
      "3  Pierre-Emerick       Aubameyang             4        1            44   \n",
      "4          Cédric           Soares             0        0            24   \n",
      "\n",
      "   minutes  goals_conceded  creativity  influence  threat  bonus  bps  \\\n",
      "0      360               9         0.0       85.0     0.0      0   69   \n",
      "1        0               0         0.0        0.0     0.0      0    0   \n",
      "2        0               0         0.0        0.0     0.0      0    0   \n",
      "3     1036              16       132.4      217.6   582.0      7  131   \n",
      "4      829              14       144.2      147.2    56.0      0  160   \n",
      "\n",
      "   ict_index  clean_sheets  red_cards  yellow_cards  selected_by_percent  \\\n",
      "0        8.5             1          0             0                  0.9   \n",
      "1        0.0             0          0             0                  0.5   \n",
      "2        0.0             0          0             0                  0.1   \n",
      "3       92.9             6          0             3                  1.3   \n",
      "4       34.8             3          0             3                  0.3   \n",
      "\n",
      "   now_cost element_type  \n",
      "0        45           GK  \n",
      "1        40           GK  \n",
      "2        63          MID  \n",
      "3        96          FWD  \n",
      "4        42          DEF  \n"
     ]
    }
   ],
   "source": [
    "print(df.head()) # Shows first 5 rows"
   ]
  },
  {
   "cell_type": "code",
   "execution_count": 17,
   "id": "aab92370",
   "metadata": {},
   "outputs": [
    {
     "name": "stdout",
     "output_type": "stream",
     "text": [
      "<class 'pandas.core.frame.DataFrame'>\n",
      "RangeIndex: 714 entries, 0 to 713\n",
      "Data columns (total 19 columns):\n",
      " #   Column               Non-Null Count  Dtype  \n",
      "---  ------               --------------  -----  \n",
      " 0   first_name           714 non-null    object \n",
      " 1   second_name          714 non-null    object \n",
      " 2   goals_scored         714 non-null    int64  \n",
      " 3   assists              714 non-null    int64  \n",
      " 4   total_points         714 non-null    int64  \n",
      " 5   minutes              714 non-null    int64  \n",
      " 6   goals_conceded       714 non-null    int64  \n",
      " 7   creativity           714 non-null    float64\n",
      " 8   influence            714 non-null    float64\n",
      " 9   threat               714 non-null    float64\n",
      " 10  bonus                714 non-null    int64  \n",
      " 11  bps                  714 non-null    int64  \n",
      " 12  ict_index            714 non-null    float64\n",
      " 13  clean_sheets         714 non-null    int64  \n",
      " 14  red_cards            714 non-null    int64  \n",
      " 15  yellow_cards         714 non-null    int64  \n",
      " 16  selected_by_percent  714 non-null    float64\n",
      " 17  now_cost             714 non-null    int64  \n",
      " 18  element_type         714 non-null    object \n",
      "dtypes: float64(5), int64(11), object(3)\n",
      "memory usage: 106.1+ KB\n",
      "None\n"
     ]
    }
   ],
   "source": [
    "print(df.info()) \n",
    "# to show column info\n",
    "# i.e. this tells us column'first_name' is an object whereas column 'goals_scored' is an integer"
   ]
  },
  {
   "cell_type": "code",
   "execution_count": null,
   "id": "81c569e4",
   "metadata": {},
   "outputs": [],
   "source": []
  }
 ],
 "metadata": {
  "kernelspec": {
   "display_name": "Python 3 (ipykernel)",
   "language": "python",
   "name": "python3"
  },
  "language_info": {
   "codemirror_mode": {
    "name": "ipython",
    "version": 3
   },
   "file_extension": ".py",
   "mimetype": "text/x-python",
   "name": "python",
   "nbconvert_exporter": "python",
   "pygments_lexer": "ipython3",
   "version": "3.9.7"
  }
 },
 "nbformat": 4,
 "nbformat_minor": 5
}
